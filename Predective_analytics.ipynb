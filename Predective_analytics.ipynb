{
  "nbformat": 4,
  "nbformat_minor": 0,
  "metadata": {
    "colab": {
      "provenance": [],
      "gpuType": "T4"
    },
    "kernelspec": {
      "name": "python3",
      "display_name": "Python 3"
    },
    "language_info": {
      "name": "python"
    },
    "accelerator": "GPU"
  },
  "cells": [
    {
      "cell_type": "code",
      "execution_count": 1,
      "metadata": {
        "id": "t8jNcOAm7jNx"
      },
      "outputs": [],
      "source": [
        "import pandas as pd\n",
        "import numpy as np\n",
        "from sklearn.model_selection import train_test_split, GridSearchCV, StratifiedKFold\n",
        "from sklearn.preprocessing import StandardScaler, LabelEncoder, OneHotEncoder\n",
        "from xgboost import XGBClassifier\n",
        "from sklearn.metrics import accuracy_score\n"
      ]
    },
    {
      "cell_type": "code",
      "source": [
        "# Load your dataset\n",
        "aisles = pd.read_csv('/content/aisles.csv')\n",
        "departments = pd.read_csv('/content/departments.csv')\n",
        "order_products_prior = pd.read_csv('/content/order_products__prior.csv')\n",
        "order_products_train = pd.read_csv('/content/order_products__train.csv')\n",
        "orders = pd.read_csv('/content/orders.csv')\n",
        "products = pd.read_csv('/content/products.csv')\n"
      ],
      "metadata": {
        "id": "HMPjRUay7vVc"
      },
      "execution_count": 3,
      "outputs": []
    },
    {
      "cell_type": "code",
      "source": [
        "# Merge relevant dataframes (example: order history, product info)\n",
        "order_history = pd.merge(order_products_prior, orders, on='order_id', how='inner')\n",
        "order_history = pd.merge(order_history, products, on='product_id', how='inner')\n",
        "\n"
      ],
      "metadata": {
        "id": "5LPC3slj9euj"
      },
      "execution_count": 4,
      "outputs": []
    },
    {
      "cell_type": "code",
      "source": [
        "# Define the problem statement: Predict whether a product will be reordered in the next order\n",
        "order_history['reordered_previous'] = order_history.groupby(['user_id', 'product_id'])['reordered'].shift().fillna(0).astype(int)\n"
      ],
      "metadata": {
        "id": "0CfcV8UL-ayh"
      },
      "execution_count": 5,
      "outputs": []
    },
    {
      "cell_type": "code",
      "source": [
        "# Feature Engineering\n",
        "# User-specific features\n",
        "user_features = order_history.groupby('user_id').agg({\n",
        "    'order_id': 'nunique',  # Number of orders per user\n",
        "    'product_id': 'nunique',  # Number of unique products ordered by the user\n",
        "    'reordered': 'mean',  # Reorder rate for the user\n",
        "}).reset_index()\n",
        "user_features.rename(columns={\n",
        "    'order_id': 'user_orders',\n",
        "    'product_id': 'user_unique_products',\n",
        "    'reordered': 'user_reorder_rate'\n",
        "}, inplace=True)"
      ],
      "metadata": {
        "id": "exqGZf6M-dsS"
      },
      "execution_count": 6,
      "outputs": []
    },
    {
      "cell_type": "code",
      "source": [
        "# Product-specific features\n",
        "product_features = order_history.groupby('product_id').agg({\n",
        "    'reordered_previous': 'mean',  # Reorder rate for the product in previous orders\n",
        "    'add_to_cart_order': 'mean',  # Average position in cart for the product\n",
        "}).reset_index()\n",
        "product_features.rename(columns={\n",
        "    'reordered_previous': 'product_reorder_rate',\n",
        "    'add_to_cart_order': 'product_avg_cart_position'\n",
        "}, inplace=True)\n"
      ],
      "metadata": {
        "id": "0vKe4Rup-iHV"
      },
      "execution_count": 7,
      "outputs": []
    },
    {
      "cell_type": "code",
      "source": [
        "# Merge user and product features back to the dataset\n",
        "order_history = pd.merge(order_history, user_features, on='user_id', how='left')\n",
        "order_history = pd.merge(order_history, product_features, on='product_id', how='left')\n"
      ],
      "metadata": {
        "id": "ZmG6MGPU-m_m"
      },
      "execution_count": 8,
      "outputs": []
    },
    {
      "cell_type": "code",
      "source": [
        "# Features and target variable\n",
        "X = order_history[['user_orders', 'user_unique_products', 'user_reorder_rate',\n",
        "                   'product_reorder_rate', 'product_avg_cart_position']]\n",
        "y = order_history['reordered']\n"
      ],
      "metadata": {
        "id": "WA2keClX-spD"
      },
      "execution_count": 9,
      "outputs": []
    },
    {
      "cell_type": "code",
      "source": [
        "# Split data into train and test sets\n",
        "X_train, X_test, y_train, y_test = train_test_split(X, y, test_size=0.2, random_state=42)\n",
        "\n",
        "# Initialize XGBoost classifier\n",
        "model = XGBClassifier()\n",
        "\n",
        "\n",
        "\n",
        "\n",
        "\n",
        "\n"
      ],
      "metadata": {
        "id": "iKXHKfLf-xmF"
      },
      "execution_count": 10,
      "outputs": []
    },
    {
      "cell_type": "code",
      "source": [
        "# Train the model\n",
        "model.fit(X_train, y_train)\n",
        "\n",
        "# Make predictions on the test set\n",
        "y_pred = model.predict(X_test)\n"
      ],
      "metadata": {
        "id": "FX-rH2BV--V2"
      },
      "execution_count": 11,
      "outputs": []
    },
    {
      "cell_type": "code",
      "source": [
        "# Calculate accuracy\n",
        "accuracy = accuracy_score(y_test, y_pred)\n",
        "print(f\"Accuracy: {accuracy * 100:.2f}%\")"
      ],
      "metadata": {
        "colab": {
          "base_uri": "https://localhost:8080/"
        },
        "id": "FaWSUhWN_FcQ",
        "outputId": "5dafcef0-f21d-43c4-8f50-7c1e060acd15"
      },
      "execution_count": 12,
      "outputs": [
        {
          "output_type": "stream",
          "name": "stdout",
          "text": [
            "Accuracy: 69.06%\n"
          ]
        }
      ]
    },
    {
      "cell_type": "markdown",
      "source": [
        "NEW"
      ],
      "metadata": {
        "id": "whMlg3OIDgqh"
      }
    },
    {
      "cell_type": "code",
      "source": [
        "import pandas as pd\n",
        "import numpy as np\n",
        "from sklearn.model_selection import train_test_split, GridSearchCV\n",
        "from xgboost import XGBClassifier\n",
        "from sklearn.ensemble import RandomForestClassifier\n",
        "from sklearn.metrics import accuracy_score, precision_score, recall_score, f1_score, roc_auc_score\n",
        "from imblearn.over_sampling import SMOTE\n",
        "\n",
        "# Load data\n",
        "aisles = pd.read_csv('/content/aisles.csv')\n",
        "departments = pd.read_csv('/content/departments.csv')\n",
        "order_products_prior = pd.read_csv('/content/order_products__prior.csv')\n",
        "order_products_train = pd.read_csv('/content/order_products__train.csv')\n",
        "orders = pd.read_csv('/content/orders.csv')\n",
        "products = pd.read_csv('/content/products.csv')\n",
        "\n",
        " # Merge relevant dataframes\n",
        "order_history = pd.merge(order_products_prior, orders, on='order_id', how='inner')\n",
        "order_history = pd.merge(order_history, products, on='product_id', how='inner')\n",
        "\n",
        "# Define problem statement: Predict whether a product will be reordered in the next order\n",
        "order_history['reordered_previous'] = order_history.groupby(['user_id', 'product_id'])['reordered'].shift().fillna(0).astype(int)\n",
        "\n",
        "# Feature Engineering\n",
        "# User-specific features\n",
        "user_features = order_history.groupby('user_id').agg({\n",
        "    'order_id': 'nunique',  # Number of orders per user\n",
        "    'product_id': 'nunique',  # Number of unique products ordered by the user\n",
        "    'reordered': 'mean',  # Reorder rate for the user\n",
        "}).reset_index()\n",
        "user_features.rename(columns={\n",
        "    'order_id': 'user_orders',\n",
        "    'product_id': 'user_unique_products',\n",
        "    'reordered': 'user_reorder_rate'\n",
        "}, inplace=True)\n",
        "\n",
        "# Product-specific features\n",
        "product_features = order_history.groupby('product_id').agg({\n",
        "    'reordered_previous': 'mean',  # Reorder rate for the product in previous orders\n",
        "    'add_to_cart_order': 'mean',  # Average position in cart for the product\n",
        "}).reset_index()\n",
        "product_features.rename(columns={\n",
        "    'reordered_previous': 'product_reorder_rate',\n",
        "    'add_to_cart_order': 'product_avg_cart_position'\n",
        "}, inplace=True)\n",
        "\n",
        "# Merge user and product features back to the dataset\n",
        "order_history = pd.merge(order_history, user_features, on='user_id', how='left')\n",
        "order_history = pd.merge(order_history, product_features, on='product_id', how='left')\n",
        "\n",
        "# Features and target variable\n",
        "X = order_history[['user_orders', 'user_unique_products', 'user_reorder_rate',\n",
        "                   'product_reorder_rate', 'product_avg_cart_position']]\n",
        "y = order_history['reordered']\n",
        "\n",
        "# Split data into train and test sets\n",
        "X_train, X_test, y_train, y_test = train_test_split(X, y, test_size=0.2, random_state=42)\n",
        "\n",
        "# Handle class imbalance using SMOTE\n",
        "smote = SMOTE(random_state=42)\n",
        "X_train_resampled, y_train_resampled = smote.fit_resample(X_train, y_train)\n",
        "\n",
        "# Initialize XGBoost and Random Forest classifiers\n",
        "xgb_model = XGBClassifier()\n",
        "rf_model = RandomForestClassifier()\n",
        "\n",
        "# Hyperparameter tuning using GridSearchCV for XGBoost\n",
        "xgb_param_grid = {\n",
        "    'n_estimators': [100, 200],\n",
        "    'max_depth': [3, 4, 5],\n",
        "    'learning_rate': [0.01, 0.1],\n",
        "}\n",
        "\n",
        "xgb_grid_search = GridSearchCV(estimator=xgb_model, param_grid=xgb_param_grid, scoring='accuracy', cv=5, verbose=1)\n",
        "xgb_grid_search.fit(X_train_resampled, y_train_resampled)\n",
        "\n",
        "best_xgb_model = xgb_grid_search.best_estimator_\n",
        "\n",
        "# Hyperparameter tuning using GridSearchCV for Random Forest\n",
        "rf_param_grid = {\n",
        "    'n_estimators': [100, 200],\n",
        "    'max_depth': [3, 4, 5],\n",
        "}\n",
        "\n",
        "rf_grid_search = GridSearchCV(estimator=rf_model, param_grid=rf_param_grid, scoring='accuracy', cv=5, verbose=1)\n",
        "rf_grid_search.fit(X_train_resampled, y_train_resampled)\n",
        "\n",
        "best_rf_model = rf_grid_search.best_estimator_\n",
        "\n",
        "# Make predictions on the test set using both models\n",
        "y_pred_xgb = best_xgb_model.predict(X_test)\n",
        "y_pred_rf = best_rf_model.predict(X_test)\n",
        "\n",
        "# Calculate and compare accuracy, precision, recall, F1-score, and ROC-AUC for both models\n",
        "def evaluate_model(y_true, y_pred):\n",
        "    accuracy = accuracy_score(y_true, y_pred)\n",
        "    precision = precision_score(y_true, y_pred)\n",
        "    recall = recall_score(y_true, y_pred)\n",
        "    f1 = f1_score(y_true, y_pred)\n",
        "    roc_auc = roc_auc_score(y_true, y_pred)\n",
        "\n",
        "    return accuracy, precision, recall, f1, roc_auc\n",
        "\n",
        "accuracy_xgb, precision_xgb, recall_xgb, f1_xgb, roc_auc_xgb = evaluate_model(y_test, y_pred_xgb)\n",
        "accuracy_rf, precision_rf, recall_rf, f1_rf, roc_auc_rf = evaluate_model(y_test, y_pred_rf)\n",
        "\n",
        "print(\"XGBoost Metrics:\")\n",
        "print(f\"Accuracy: {accuracy_xgb * 100:.2f}%\")\n",
        "print(f\"Precision: {precision_xgb:.2f}\")\n",
        "print(f\"Recall: {recall_xgb:.2f}\")\n",
        "print(f\"F1 Score: {f1_xgb:.2f}\")\n",
        "print(f\"ROC-AUC Score: {roc_auc_xgb:.2f}\")\n",
        "print(\"\\nRandom Forest Metrics:\")\n",
        "print(f\"Accuracy: {accuracy_rf * 100:.2f}%\")\n",
        "print(f\"Precision: {precision_rf:.2f}\")\n",
        "print(f\"Recall: {recall_rf:.2f}\")\n",
        "print(f\"F1 Score: {f1_rf:.2f}\")\n",
        "print(f\"ROC-AUC Score: {roc_auc_rf:.2f}\")"
      ],
      "metadata": {
        "colab": {
          "base_uri": "https://localhost:8080/"
        },
        "id": "KKDqC1ek_FyF",
        "outputId": "f51212a3-5593-4ec5-bf52-0fbc1d185bde"
      },
      "execution_count": 14,
      "outputs": [
        {
          "output_type": "stream",
          "name": "stdout",
          "text": [
            "Fitting 5 folds for each of 12 candidates, totalling 60 fits\n",
            "Fitting 5 folds for each of 6 candidates, totalling 30 fits\n",
            "XGBoost Metrics:\n",
            "Accuracy: 70.94%\n",
            "Precision: 0.78\n",
            "Recall: 0.72\n",
            "F1 Score: 0.75\n",
            "ROC-AUC Score: 0.71\n",
            "\n",
            "Random Forest Metrics:\n",
            "Accuracy: 71.70%\n",
            "Precision: 0.78\n",
            "Recall: 0.74\n",
            "F1 Score: 0.76\n",
            "ROC-AUC Score: 0.71\n"
          ]
        }
      ]
    }
  ]
}